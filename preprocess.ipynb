{
 "cells": [
  {
   "cell_type": "code",
   "execution_count": 1,
   "metadata": {},
   "outputs": [
    {
     "name": "stdout",
     "output_type": "stream",
     "text": [
      "{'The Wildfire Dataset': {'train': 'dataset_1\\\\train', 'test': 'dataset_1\\\\test', 'val': 'dataset_1\\\\val', 'augment': False, 'source_url': 'https://www.kaggle.com/datasets/elmadafri/the-wildfire-dataset/'}, 'DeepFire': {'train': 'dataset_2\\\\Training', 'test': 'dataset_2\\\\Testing', 'augment': False, 'source_url': 'https://www.kaggle.com/datasets/alik05/forest-fire-dataset/'}, 'FIRE': {'train': 'dataset_3', 'augment': False, 'source_url': 'https://www.kaggle.com/datasets/phylake1337/fire-dataset/'}}\n",
      "['dataset_1\\\\train', 'dataset_2\\\\Training', 'dataset_3']\n",
      "['dataset_1\\\\test', 'dataset_2\\\\Testing', None]\n",
      "['dataset_1\\\\val', None, None]\n",
      "[('dataset_1\\\\train', 'dataset_1\\\\test', 'dataset_1\\\\val'), ('dataset_2\\\\Training', 'dataset_2\\\\Testing', None), ('dataset_3', None, None)]\n",
      "['dataset_3', 'https://www.kaggle.com/datasets/phylake1337/fire-dataset/']\n",
      "Compressing images in dataset_3\n",
      "Compressing images in https://www.kaggle.com/datasets/phylake1337/fire-dataset/\n"
     ]
    }
   ],
   "source": [
    "import os\n",
    "from PIL import Image\n",
    "from train_parameters import DATASETS\n",
    "def resize_and_compress_images(root_dir, target_size=(224, 224), quality=90):\n",
    "    for subdir, _, files in os.walk(root_dir):\n",
    "        for file in files:\n",
    "            if file.lower().endswith(('png', 'jpg', 'jpeg')):\n",
    "                file_path = os.path.join(subdir, file)\n",
    "                with Image.open(file_path) as img:\n",
    "                    img = img.resize(target_size, Image.LANCZOS)\n",
    "                    img.save(file_path, quality=quality, optimize=True)\n",
    "\n",
    "\n",
    "target_dir = DATASETS['FIRE']\n",
    "directories = target_dir.values()\n",
    "directories = [d for d in directories if isinstance(d, str)]\n",
    "print(directories)\n",
    "for directory in directories:\n",
    "    print(f\"Compressing images in {directory}\")\n",
    "    resize_and_compress_images(directory)"
   ]
  }
 ],
 "metadata": {
  "kernelspec": {
   "display_name": "venv",
   "language": "python",
   "name": "python3"
  },
  "language_info": {
   "codemirror_mode": {
    "name": "ipython",
    "version": 3
   },
   "file_extension": ".py",
   "mimetype": "text/x-python",
   "name": "python",
   "nbconvert_exporter": "python",
   "pygments_lexer": "ipython3",
   "version": "3.12.7"
  }
 },
 "nbformat": 4,
 "nbformat_minor": 2
}
